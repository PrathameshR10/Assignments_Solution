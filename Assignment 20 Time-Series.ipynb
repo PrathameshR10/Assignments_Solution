{
 "cells": [
  {
   "cell_type": "code",
   "execution_count": 1,
   "id": "53802bd5",
   "metadata": {},
   "outputs": [
    {
     "ename": "ImportError",
     "evalue": "cannot import name 'root' from 'sklearn.metrics' (C:\\Users\\hp\\anaconda3\\Lib\\site-packages\\sklearn\\metrics\\__init__.py)",
     "output_type": "error",
     "traceback": [
      "\u001b[1;31m---------------------------------------------------------------------------\u001b[0m",
      "\u001b[1;31mImportError\u001b[0m                               Traceback (most recent call last)",
      "Cell \u001b[1;32mIn[1], line 6\u001b[0m\n\u001b[0;32m      4\u001b[0m \u001b[38;5;28;01mfrom\u001b[39;00m \u001b[38;5;21;01mstatsmodels\u001b[39;00m\u001b[38;5;21;01m.\u001b[39;00m\u001b[38;5;21;01mtsa\u001b[39;00m\u001b[38;5;21;01m.\u001b[39;00m\u001b[38;5;21;01marima\u001b[39;00m\u001b[38;5;21;01m.\u001b[39;00m\u001b[38;5;21;01mmodel\u001b[39;00m \u001b[38;5;28;01mimport\u001b[39;00m ARIMA\n\u001b[0;32m      5\u001b[0m \u001b[38;5;28;01mfrom\u001b[39;00m \u001b[38;5;21;01mpmdarima\u001b[39;00m \u001b[38;5;28;01mimport\u001b[39;00m auto_arima\n\u001b[1;32m----> 6\u001b[0m \u001b[38;5;28;01mfrom\u001b[39;00m \u001b[38;5;21;01msklearn\u001b[39;00m\u001b[38;5;21;01m.\u001b[39;00m\u001b[38;5;21;01mmetrics\u001b[39;00m \u001b[38;5;28;01mimport\u001b[39;00m mean_squared_error,r2_score,mean_absolute_error,mean_absolute_percentage_error,root\n\u001b[0;32m      7\u001b[0m \u001b[38;5;28;01mimport\u001b[39;00m \u001b[38;5;21;01mmatplotlib\u001b[39;00m\u001b[38;5;21;01m.\u001b[39;00m\u001b[38;5;21;01mpyplot\u001b[39;00m \u001b[38;5;28;01mas\u001b[39;00m \u001b[38;5;21;01mplt\u001b[39;00m\n\u001b[0;32m      8\u001b[0m \u001b[38;5;28;01mimport\u001b[39;00m \u001b[38;5;21;01mseaborn\u001b[39;00m \u001b[38;5;28;01mas\u001b[39;00m \u001b[38;5;21;01msns\u001b[39;00m\n",
      "\u001b[1;31mImportError\u001b[0m: cannot import name 'root' from 'sklearn.metrics' (C:\\Users\\hp\\anaconda3\\Lib\\site-packages\\sklearn\\metrics\\__init__.py)"
     ]
    }
   ],
   "source": [
    "import pandas as pd\n",
    "import numpy as np\n",
    "from statsmodels.tsa.stattools import adfuller\n",
    "from statsmodels.tsa.arima.model import ARIMA\n",
    "from pmdarima import auto_arima\n",
    "from sklearn.metrics import mean_squared_error,r2_score,mean_absolute_error,mean_absolute_percentage_error,root\n",
    "import matplotlib.pyplot as plt\n",
    "import seaborn as sns\n",
    "import statsmodels.api as sm\n",
    "import warnings\n",
    "warnings.filterwarnings('ignore')\n",
    "plt.rcParams['figure.figsize'] = (15,5)\n",
    "plt.rcParams['figure.dpi'] = 250\n",
    "sns.set_style('darkgrid')\n",
    "%matplotlib inline"
   ]
  },
  {
   "cell_type": "code",
   "execution_count": null,
   "id": "c3371b6f",
   "metadata": {},
   "outputs": [],
   "source": [
    "df = pd.read_csv('https://raw.githubusercontent.com/PrathameshR10/Assignments/main/Folder/exchange_rate.csv',index_col=0)"
   ]
  },
  {
   "cell_type": "code",
   "execution_count": null,
   "id": "818799a3",
   "metadata": {},
   "outputs": [],
   "source": [
    "df.index = pd.to_datetime(df.index,infer_datetime_format=True)\n",
    "df"
   ]
  },
  {
   "cell_type": "code",
   "execution_count": null,
   "id": "2cf40614",
   "metadata": {},
   "outputs": [],
   "source": [
    "df.isna().sum()      # No missing values"
   ]
  },
  {
   "cell_type": "code",
   "execution_count": null,
   "id": "825c8814",
   "metadata": {},
   "outputs": [],
   "source": [
    "import plotly.graph_objects as go\n",
    "fig = go.Figure()\n",
    "\n",
    "fig.add_trace(go.Scatter(x=df.index, y=df['Ex_rate'], marker_color='lightgreen'))\n",
    "\n",
    "fig.update_layout(title='TIME-SERIES PLOT OF USD-AUD', \n",
    "                  height=450, width=1000, template='plotly_dark', font_color='lightgreen', \n",
    "                  font=dict(family=\"sans serif\",\n",
    "                            size=16,\n",
    "                            color=\"grey\"\n",
    "                            ))\n",
    "\n",
    "fig.update_xaxes(title='Date')\n",
    "fig.update_yaxes(title='Rate / $')\n",
    "fig.show()"
   ]
  },
  {
   "cell_type": "markdown",
   "id": "fd888212",
   "metadata": {},
   "source": [
    "### Test for Stationarity of Data"
   ]
  },
  {
   "cell_type": "markdown",
   "id": "b17e0f6b",
   "metadata": {},
   "source": [
    "#### ACF & PACF Plots"
   ]
  },
  {
   "cell_type": "code",
   "execution_count": null,
   "id": "c2d1493b",
   "metadata": {
    "scrolled": false
   },
   "outputs": [],
   "source": [
    "from statsmodels.graphics.tsaplots import plot_acf, plot_pacf\n",
    "\n",
    "plot_acf(df['Ex_rate'])\n",
    "plot_pacf(df['Ex_rate'])"
   ]
  },
  {
   "cell_type": "markdown",
   "id": "93ca414b",
   "metadata": {},
   "source": [
    "#### ADF Test for Stationarity "
   ]
  },
  {
   "cell_type": "code",
   "execution_count": null,
   "id": "c979e200",
   "metadata": {},
   "outputs": [],
   "source": [
    "adf = adfuller(df['Ex_rate'],autolag='AIC')"
   ]
  },
  {
   "cell_type": "code",
   "execution_count": null,
   "id": "92d363ee",
   "metadata": {},
   "outputs": [],
   "source": [
    "adf_result = pd.Series({\n",
    "    'Test Statistic': adf[0],\n",
    "    'p-value': adf[1],\n",
    "    'Number of Lags Used': adf[2],\n",
    "    'Number of Observations Used': adf[3]\n",
    "})\n",
    "\n",
    "# Add critical values to the Series\n",
    "for key, value in adf[4].items():\n",
    "    adf_result[f'Critical Value ({key})'] = value"
   ]
  },
  {
   "cell_type": "code",
   "execution_count": null,
   "id": "a1728df0",
   "metadata": {},
   "outputs": [],
   "source": [
    "adf_result"
   ]
  },
  {
   "cell_type": "code",
   "execution_count": null,
   "id": "1d7b545e",
   "metadata": {},
   "outputs": [],
   "source": [
    "# Null hypothesis: Data is Non stationary\n",
    "\n",
    "# Alternate Hypothesis: Data is Stationary\n",
    "\n",
    "    # If p< 0.05 ; Data is stationary\n",
    "\n",
    "    # if p>0.05; Data is not stationary\n",
    "\n",
    "# According the p-value, the dataset is not stationary as the p value > alpha value."
   ]
  },
  {
   "cell_type": "code",
   "execution_count": null,
   "id": "35fe8465",
   "metadata": {},
   "outputs": [],
   "source": [
    "# TO make the dataset stationary, their are methods like:\n",
    "        # 1. Log Transformation\n",
    "        # 2. Differencing\n",
    "# We will use differencing method to make our data stationary."
   ]
  },
  {
   "cell_type": "markdown",
   "id": "d354eafe",
   "metadata": {},
   "source": [
    "#### Differencing for Stationarity"
   ]
  },
  {
   "cell_type": "code",
   "execution_count": null,
   "id": "03e99943",
   "metadata": {},
   "outputs": [],
   "source": [
    "df = df.diff().dropna()"
   ]
  },
  {
   "cell_type": "markdown",
   "id": "c666c143",
   "metadata": {},
   "source": [
    "#### Check for Stationarity"
   ]
  },
  {
   "cell_type": "code",
   "execution_count": null,
   "id": "a5ce3c60",
   "metadata": {},
   "outputs": [],
   "source": [
    "adf = adfuller(df['Ex_rate'],autolag='AIC')\n",
    "adf_result = pd.Series({\n",
    "    'Test Statistic': adf[0],\n",
    "    'p-value': adf[1],\n",
    "    'Number of Lags Used': adf[2],\n",
    "    'Number of Observations Used': adf[3]\n",
    "})\n",
    "\n",
    "# Add critical values to the Series\n",
    "for key, value in adf[4].items():\n",
    "    adf_result[f'Critical Value ({key})'] = value"
   ]
  },
  {
   "cell_type": "code",
   "execution_count": null,
   "id": "9f3e5226",
   "metadata": {},
   "outputs": [],
   "source": [
    "print(adf_result)"
   ]
  },
  {
   "cell_type": "code",
   "execution_count": null,
   "id": "72323b5a",
   "metadata": {},
   "outputs": [],
   "source": [
    "# Null hypothesis: Data is Non stationary\n",
    "\n",
    "# Alternate Hypothesis: Data is Stationary\n",
    "\n",
    "    # If p< 0.05 ; Data is stationary\n",
    "\n",
    "    # if p>0.05; Data is not stationary\n",
    "\n",
    "# According the p-value, the dataset is stationary as the p value < alpha value."
   ]
  },
  {
   "cell_type": "code",
   "execution_count": null,
   "id": "98386701",
   "metadata": {},
   "outputs": [],
   "source": [
    "# Split data into train and test sets\n",
    "train, test = df[:-30], df[-30:]\n",
    "\n",
    "print('Train Shape: ', train.shape)\n",
    "print('Test Shape: ', test.shape)"
   ]
  },
  {
   "cell_type": "markdown",
   "id": "a55dd5ba",
   "metadata": {},
   "source": [
    "## Model Building-ARIMA"
   ]
  },
  {
   "cell_type": "code",
   "execution_count": null,
   "id": "d15ff9a7",
   "metadata": {},
   "outputs": [],
   "source": [
    "# Define the order using auto_arima.\n",
    "import itertools\n",
    "# Here we define a range of parameters for p, d, q to perform grid search\n",
    "p = range(1, 4)\n",
    "d = range(0, 2)\n",
    "q = range(1, 3)\n",
    "pdq = list(itertools.product(p, d, q))\n",
    "\n",
    "aics = []\n",
    "params = []\n",
    "\n",
    "# Grid search to find the best ARIMA parameters based on AIC\n",
    "for param in pdq:\n",
    "    try:\n",
    "        model = ARIMA(train['Ex_rate'], order=param)\n",
    "        model_fit = model.fit()\n",
    "        aic = model_fit.aic\n",
    "        aics.append(aic)\n",
    "        params.append(param)\n",
    "    except Exception as e:\n",
    "        continue"
   ]
  },
  {
   "cell_type": "code",
   "execution_count": null,
   "id": "e6e68581",
   "metadata": {},
   "outputs": [],
   "source": [
    "# Find the best parameters\n",
    "combo = list(zip(aics, params))\n",
    "combo.sort()\n",
    "best_aic, best_param = combo[0]\n",
    "print(f\"Best AIC: {best_aic}\")\n",
    "print(f\"Best Parameters: {best_param}\")"
   ]
  },
  {
   "cell_type": "code",
   "execution_count": null,
   "id": "e91d9875",
   "metadata": {
    "scrolled": false
   },
   "outputs": [],
   "source": [
    "# Fit the best ARIMA model\n",
    "model = ARIMA(train['Ex_rate'], order=best_param)\n",
    "model_fit = model.fit()\n",
    "\n",
    "# Print model summary\n",
    "print(model_fit.summary())"
   ]
  },
  {
   "cell_type": "code",
   "execution_count": null,
   "id": "f0926a83",
   "metadata": {},
   "outputs": [],
   "source": [
    "import statsmodels.api as sm\n",
    "predictions = []\n",
    "\n",
    "arima = sm.tsa.statespace.SARIMAX(train.Ex_rate,order=(1,0,1),seasonal_order=(1,0,1,6),\n",
    "                                  enforce_stationarity=False, enforce_invertibility=False,).fit()\n",
    "#get a 30 days prediction\n",
    "predictions.append(arima.forecast(30))\n",
    "#converting and reshaping \n",
    "predictions = np.array(predictions).reshape((30,))"
   ]
  },
  {
   "cell_type": "markdown",
   "id": "304effb5",
   "metadata": {},
   "source": [
    "#### Residual Analysis "
   ]
  },
  {
   "cell_type": "code",
   "execution_count": null,
   "id": "78ec30bc",
   "metadata": {},
   "outputs": [],
   "source": [
    "residuals = model_fit.resid\n",
    "plt.figure(figsize=(10, 6))\n",
    "plt.plot(residuals)\n",
    "plt.title('ARIMA Model Residuals')\n",
    "plt.show()"
   ]
  },
  {
   "cell_type": "markdown",
   "id": "0ccc4404",
   "metadata": {},
   "source": [
    "#### Forecasting"
   ]
  },
  {
   "cell_type": "code",
   "execution_count": null,
   "id": "33cc3dcc",
   "metadata": {},
   "outputs": [],
   "source": [
    "forecast_steps = len(test)\n",
    "forecast = model_fit.get_forecast(steps=forecast_steps)\n",
    "forecast_index = test.index\n",
    "forecast_series = pd.Series(forecast.predicted_mean, index=forecast_index)"
   ]
  },
  {
   "cell_type": "code",
   "execution_count": null,
   "id": "7e1163a3",
   "metadata": {},
   "outputs": [],
   "source": [
    "# Forecast future values beyond the test period\n",
    "future_periods = 12 # Number of future periods to predict\n",
    "future_index = pd.date_range(start=test.index[-1], periods=future_periods + 1, freq='B')[1:]\n",
    "future_forecast = model_fit.forecast(steps=future_periods)"
   ]
  },
  {
   "cell_type": "code",
   "execution_count": null,
   "id": "2d4608af",
   "metadata": {},
   "outputs": [],
   "source": [
    "## Plotting actual and forecasted values\n",
    "plt.figure(figsize=(12, 6))\n",
    "plt.plot(train['Ex_rate'], label='Data')\n",
    "plt.plot(test['Ex_rate'], label='Forecast')\n",
    "plt.title('Foreign Exchange Rate Prediction, USD-AUD')\n",
    "plt.xlabel('Date')\n",
    "plt.ylabel('Foreign Exchange Rate')\n",
    "plt.legend()\n",
    "plt.show()"
   ]
  },
  {
   "cell_type": "code",
   "execution_count": null,
   "id": "6998d4bd",
   "metadata": {},
   "outputs": [],
   "source": [
    "y_val = df.Ex_rate[-30:]\n",
    "plt.figure(figsize=(14,5))\n",
    "plt.plot(np.arange(len(y_val)), y_val, color='steelblue');\n",
    "plt.plot(np.arange(len(y_val)), predictions, color='salmon');\n",
    "plt.legend(['True Value', 'Prediction']);"
   ]
  },
  {
   "cell_type": "code",
   "execution_count": null,
   "id": "a125f046",
   "metadata": {},
   "outputs": [],
   "source": [
    "ypred = model_fit.predict(start = 7558,end=7587)"
   ]
  },
  {
   "cell_type": "code",
   "execution_count": null,
   "id": "85feafdc",
   "metadata": {},
   "outputs": [],
   "source": [
    "mse_a = mean_squared_error(test['Ex_rate'], ypred)\n",
    "print(f\"Mean Squared Error: {mse_a}\")"
   ]
  },
  {
   "cell_type": "markdown",
   "id": "6c38b601",
   "metadata": {},
   "source": [
    "## Model Building-Exponential Smoothing"
   ]
  },
  {
   "cell_type": "code",
   "execution_count": null,
   "id": "b092ae34",
   "metadata": {},
   "outputs": [],
   "source": [
    "from statsmodels.tsa.holtwinters import ExponentialSmoothing"
   ]
  },
  {
   "cell_type": "code",
   "execution_count": null,
   "id": "376637d2",
   "metadata": {},
   "outputs": [],
   "source": [
    "seasonal_periods = [12] \n",
    "trend = ['add', 'mul', None]\n",
    "seasonal = ['add', 'mul', None]"
   ]
  },
  {
   "cell_type": "code",
   "execution_count": null,
   "id": "38dc620c",
   "metadata": {},
   "outputs": [],
   "source": [
    "# Store the best model parameters\n",
    "best_aic = float('inf')\n",
    "best_params = None\n",
    "best_model = None\n",
    "\n",
    "for t, s in itertools.product(trend, seasonal):\n",
    "    try:\n",
    "        model = ExponentialSmoothing(train['Ex_rate'], trend=t, seasonal=s, seasonal_periods=seasonal_periods[0])\n",
    "        model_fit = model.fit(optimized=True)\n",
    "        aic = model_fit.aic\n",
    "        if aic < best_aic:\n",
    "            best_aic = aic\n",
    "            best_params = (t, s)\n",
    "            best_model = model_fit\n",
    "    except Exception as e:\n",
    "        continue\n",
    "\n",
    "print(f\"Best AIC: {best_aic}\")\n",
    "print(f\"Best Parameters: Trend={best_params[0]}, Seasonal={best_params[1]}\")"
   ]
  },
  {
   "cell_type": "code",
   "execution_count": null,
   "id": "9d4eaaf4",
   "metadata": {},
   "outputs": [],
   "source": [
    "best_model = ExponentialSmoothing(train['Ex_rate'], trend=best_params[0], seasonal=best_params[1], seasonal_periods=seasonal_periods[0])\n",
    "best_model_fit = best_model.fit(optimized=True)"
   ]
  },
  {
   "cell_type": "code",
   "execution_count": null,
   "id": "e9987e94",
   "metadata": {},
   "outputs": [],
   "source": [
    "# Forecast future values for the test period\n",
    "test_forecast = best_model_fit.forecast(steps=len(test))"
   ]
  },
  {
   "cell_type": "code",
   "execution_count": null,
   "id": "270e4887",
   "metadata": {},
   "outputs": [],
   "source": [
    "all_predictions = pd.concat([train['Ex_rate'], test_forecast, pd.Series(future_forecast, index=pd.date_range(start=test.index[-1], periods=future_periods+1, closed='right'))])\n",
    "\n",
    "# Plot the actual vs predicted values\n",
    "plt.figure(figsize=(12, 6))\n",
    "plt.plot(train['Ex_rate'], label='Data')\n",
    "plt.plot(test['Ex_rate'], label='Forecast')\n",
    "plt.title('Foreign Exchange Rate Prediction, USD-AUD')\n",
    "plt.xlabel('Date')\n",
    "plt.ylabel('Foreign Exchange Rate')\n",
    "plt.legend(loc='upper left')\n",
    "plt.show()"
   ]
  },
  {
   "cell_type": "code",
   "execution_count": null,
   "id": "05bf3cc7",
   "metadata": {},
   "outputs": [],
   "source": [
    "mse_es = mean_squared_error(test['Ex_rate'], test_forecast)\n",
    "print(f\"Mean Squared Error: {mse_es}\")"
   ]
  },
  {
   "cell_type": "markdown",
   "id": "a4bf874a",
   "metadata": {},
   "source": [
    "### Comparison & Analysis"
   ]
  },
  {
   "cell_type": "raw",
   "id": "24a61187",
   "metadata": {},
   "source": [
    "ARIMA Model\n",
    "\n",
    "Mean Squared Error: 1.4388592923822909e-05\n",
    "\n",
    "    Advantages:\n",
    "\n",
    "        Well-suited for data with a clear autoregressive and moving average structure.\n",
    "        Can model both trend and seasonality.\n",
    "        Provides good interpretability with clear parameter definitions.\n",
    "    Limitations:\n",
    "\n",
    "        Requires data to be stationary; otherwise, differencing is needed.\n",
    "        Parameter tuning can be complex and time-consuming.\n",
    "        Can be computationally expensive for larger datasets.\n",
    "\n",
    "\n",
    "Exponential Smoothing Model\n",
    "\n",
    "Mean Squared Error: 5.109783501069573e-05\n",
    "\n",
    "    Advantages:\n",
    "\n",
    "        Simple to understand and implement.\n",
    "        Effective for capturing trends and seasonality in the data.\n",
    "        Flexible with different variations like Holt-Winters for trend and seasonality.\n",
    "\n",
    "    Limitations:\n",
    "\n",
    "        May not perform well if the data has strong autocorrelation that is better captured by ARIMA.\n",
    "        Requires careful selection of smoothing parameters.\n",
    "        Less interpretable compared to ARIMA.\n",
    "\n",
    "Conclusion:\n",
    "\n",
    "    Model Comparison:\n",
    "\n",
    "        Accuracy:\n",
    "        \n",
    "            The ARIMA model has a lower MSE compared to the Exponential Smoothing model, indicating it has better predictive                       accuracy in this case.\n",
    "\n",
    "        Complexity:\n",
    "        \n",
    "            ARIMA models can capture more complex patterns in the data but require careful parameter tuning and the data to be                   stationary.\n",
    "            Exponential Smoothing models are simpler to implement and interpret, making them easier to use for quick forecasting                  without extensive preprocessing.\n",
    "   \n",
    " Based on the MSE Metric, the ARIMA model outperforms the Exponential Smoothing model for forecasting the exchange rates in this dataset."
   ]
  },
  {
   "cell_type": "code",
   "execution_count": null,
   "id": "4c93965d",
   "metadata": {},
   "outputs": [],
   "source": []
  }
 ],
 "metadata": {
  "kernelspec": {
   "display_name": "Python 3 (ipykernel)",
   "language": "python",
   "name": "python3"
  },
  "language_info": {
   "codemirror_mode": {
    "name": "ipython",
    "version": 3
   },
   "file_extension": ".py",
   "mimetype": "text/x-python",
   "name": "python",
   "nbconvert_exporter": "python",
   "pygments_lexer": "ipython3",
   "version": "3.11.4"
  }
 },
 "nbformat": 4,
 "nbformat_minor": 5
}
