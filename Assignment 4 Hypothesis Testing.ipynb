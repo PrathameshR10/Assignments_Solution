{
 "cells": [
  {
   "cell_type": "code",
   "execution_count": 1,
   "id": "c180dc3c",
   "metadata": {},
   "outputs": [],
   "source": [
    "import pandas as pd\n",
    "import scipy.stats as stats\n",
    "import numpy as np"
   ]
  },
  {
   "cell_type": "markdown",
   "id": "9c09a59e",
   "metadata": {},
   "source": [
    "## Hypothesis Testing"
   ]
  },
  {
   "cell_type": "markdown",
   "id": "693679f4",
   "metadata": {},
   "source": [
    "### Available Data"
   ]
  },
  {
   "cell_type": "code",
   "execution_count": 2,
   "id": "4bb376d5",
   "metadata": {},
   "outputs": [],
   "source": [
    "pop_mean = 1000 + (5 * 600)    # 'x' is number of units sold i.e. 600\n",
    "sample_mean = 3050\n",
    "sample_std = 25 * 5            \n",
    "n = 25                         # n is sample size\n",
    "alpha = 0.05"
   ]
  },
  {
   "cell_type": "code",
   "execution_count": 3,
   "id": "021b616d",
   "metadata": {},
   "outputs": [],
   "source": [
    "# To check if difference in pop_mean and sample_mean is actually significant or just due to sampling error,\n",
    "# we consider alpha_value (standard being 0.05)"
   ]
  },
  {
   "cell_type": "markdown",
   "id": "62d6f1d9",
   "metadata": {},
   "source": [
    "### Hypothesis Statement"
   ]
  },
  {
   "cell_type": "code",
   "execution_count": 4,
   "id": "f3107773",
   "metadata": {},
   "outputs": [],
   "source": [
    "# Null Hypothesis(H0) = No change needed as the weekly operating cost is not higher\n",
    "# Alternate Hypothesis(Ha) = Weekly operating cost is higher than the observed cost according to the model"
   ]
  },
  {
   "cell_type": "code",
   "execution_count": 5,
   "id": "db9d49b0",
   "metadata": {},
   "outputs": [],
   "source": [
    "# As alternate hypothesis is directional as it mentions only one condition (cost being higher), \n",
    "# it is \"one tail\" alternate hypothesis"
   ]
  },
  {
   "cell_type": "markdown",
   "id": "50d34e24",
   "metadata": {},
   "source": [
    "### Calculating Test Statistic"
   ]
  },
  {
   "cell_type": "code",
   "execution_count": 6,
   "id": "3f1174ee",
   "metadata": {},
   "outputs": [],
   "source": [
    "# We will be using z-test to calculate the critical value as mentioned in problem statement.\n",
    "# usually if sample size is less than 30 and population std deviation is not available, we use t-test."
   ]
  },
  {
   "cell_type": "code",
   "execution_count": 7,
   "id": "31a6bcaa",
   "metadata": {},
   "outputs": [],
   "source": [
    "# Calculate z statistic value\n",
    "# formula:- \n",
    "z_test = ((sample_mean - pop_mean) / (sample_std / (np.sqrt(n)))) "
   ]
  },
  {
   "cell_type": "code",
   "execution_count": 8,
   "id": "a3fdde1c",
   "metadata": {},
   "outputs": [
    {
     "data": {
      "text/plain": [
       "-38.0"
      ]
     },
     "execution_count": 8,
     "metadata": {},
     "output_type": "execute_result"
    }
   ],
   "source": [
    "z_test"
   ]
  },
  {
   "cell_type": "markdown",
   "id": "ff8c0a94",
   "metadata": {},
   "source": [
    "### Calculating Critical Value"
   ]
  },
  {
   "cell_type": "code",
   "execution_count": 9,
   "id": "9307f59d",
   "metadata": {},
   "outputs": [],
   "source": [
    "critical_value = stats.norm.ppf(1- alpha)"
   ]
  },
  {
   "cell_type": "code",
   "execution_count": 10,
   "id": "aea55590",
   "metadata": {},
   "outputs": [
    {
     "data": {
      "text/plain": [
       "1.6448536269514722"
      ]
     },
     "execution_count": 10,
     "metadata": {},
     "output_type": "execute_result"
    }
   ],
   "source": [
    "critical_value"
   ]
  },
  {
   "cell_type": "markdown",
   "id": "e1b27663",
   "metadata": {},
   "source": [
    "### Results"
   ]
  },
  {
   "cell_type": "code",
   "execution_count": 11,
   "id": "e9270963",
   "metadata": {},
   "outputs": [
    {
     "name": "stdout",
     "output_type": "stream",
     "text": [
      "z_value: -38.0\n",
      "critical value: 1.6448536269514722\n",
      "alpha value: 0.05\n"
     ]
    }
   ],
   "source": [
    "print('z_value:', z_test) \n",
    "print('critical value:', critical_value)\n",
    "print('alpha value:', alpha)"
   ]
  },
  {
   "cell_type": "markdown",
   "id": "dfed7aee",
   "metadata": {},
   "source": [
    "### Conclusion"
   ]
  },
  {
   "cell_type": "code",
   "execution_count": 12,
   "id": "871b465a",
   "metadata": {},
   "outputs": [],
   "source": [
    "# if z_test value > critical value, we reject null hypothesis and vice versa"
   ]
  },
  {
   "cell_type": "code",
   "execution_count": 13,
   "id": "be183466",
   "metadata": {},
   "outputs": [
    {
     "name": "stdout",
     "output_type": "stream",
     "text": [
      "We fail to reject null hypothesis i.e No substantial evidence that weeekly operating cost is higher than observed costs.\n"
     ]
    }
   ],
   "source": [
    "if critical_value < z_test:\n",
    "    print(\"We Reject Null hypothesis i.e \\n Their is strong evidence that weekly operating costs might be higher than observed cost.\")\n",
    "else:\n",
    "    print(\"We fail to reject null hypothesis i.e No substantial evidence that weeekly operating cost is higher than observed costs.\")"
   ]
  },
  {
   "cell_type": "code",
   "execution_count": null,
   "id": "a6a8277d",
   "metadata": {},
   "outputs": [],
   "source": []
  },
  {
   "cell_type": "markdown",
   "id": "821d3a88",
   "metadata": {},
   "source": [
    "## Chi2 Test"
   ]
  },
  {
   "cell_type": "code",
   "execution_count": 14,
   "id": "fedea972",
   "metadata": {},
   "outputs": [],
   "source": [
    "from scipy.stats import chi2_contingency"
   ]
  },
  {
   "cell_type": "code",
   "execution_count": 15,
   "id": "6e11a670",
   "metadata": {},
   "outputs": [],
   "source": [
    "df = pd.read_csv(\"https://raw.githubusercontent.com/PrathameshR10/Assignments/main/Folder/chi2data.csv\")"
   ]
  },
  {
   "cell_type": "markdown",
   "id": "97a4c119",
   "metadata": {},
   "source": [
    "### Objective"
   ]
  },
  {
   "cell_type": "code",
   "execution_count": 16,
   "id": "303d7551",
   "metadata": {},
   "outputs": [],
   "source": [
    "# To use the Chi-Square test for independence to determine if there's a significant association \n",
    "#  between the type of smart home device purchased (Smart Thermostats vs. Smart Lights) and the customer satisfaction level."
   ]
  },
  {
   "cell_type": "code",
   "execution_count": 17,
   "id": "2b390312",
   "metadata": {},
   "outputs": [
    {
     "data": {
      "text/html": [
       "<div>\n",
       "<style scoped>\n",
       "    .dataframe tbody tr th:only-of-type {\n",
       "        vertical-align: middle;\n",
       "    }\n",
       "\n",
       "    .dataframe tbody tr th {\n",
       "        vertical-align: top;\n",
       "    }\n",
       "\n",
       "    .dataframe thead th {\n",
       "        text-align: right;\n",
       "    }\n",
       "</style>\n",
       "<table border=\"1\" class=\"dataframe\">\n",
       "  <thead>\n",
       "    <tr style=\"text-align: right;\">\n",
       "      <th></th>\n",
       "      <th>Satisfaction</th>\n",
       "      <th>Smart Thermostat</th>\n",
       "      <th>Smart Light</th>\n",
       "      <th>Total</th>\n",
       "    </tr>\n",
       "  </thead>\n",
       "  <tbody>\n",
       "    <tr>\n",
       "      <th>0</th>\n",
       "      <td>Very Satisfied</td>\n",
       "      <td>50</td>\n",
       "      <td>70</td>\n",
       "      <td>120</td>\n",
       "    </tr>\n",
       "    <tr>\n",
       "      <th>1</th>\n",
       "      <td>Satisfied</td>\n",
       "      <td>80</td>\n",
       "      <td>100</td>\n",
       "      <td>180</td>\n",
       "    </tr>\n",
       "    <tr>\n",
       "      <th>2</th>\n",
       "      <td>Neutral</td>\n",
       "      <td>60</td>\n",
       "      <td>90</td>\n",
       "      <td>150</td>\n",
       "    </tr>\n",
       "    <tr>\n",
       "      <th>3</th>\n",
       "      <td>Unsatisfied</td>\n",
       "      <td>30</td>\n",
       "      <td>50</td>\n",
       "      <td>80</td>\n",
       "    </tr>\n",
       "    <tr>\n",
       "      <th>4</th>\n",
       "      <td>Very Unsatisfied</td>\n",
       "      <td>20</td>\n",
       "      <td>50</td>\n",
       "      <td>70</td>\n",
       "    </tr>\n",
       "    <tr>\n",
       "      <th>5</th>\n",
       "      <td>Total</td>\n",
       "      <td>240</td>\n",
       "      <td>360</td>\n",
       "      <td>600</td>\n",
       "    </tr>\n",
       "  </tbody>\n",
       "</table>\n",
       "</div>"
      ],
      "text/plain": [
       "       Satisfaction  Smart Thermostat  Smart Light  Total\n",
       "0    Very Satisfied                50           70    120\n",
       "1         Satisfied                80          100    180\n",
       "2           Neutral                60           90    150\n",
       "3       Unsatisfied                30           50     80\n",
       "4  Very Unsatisfied                20           50     70\n",
       "5             Total               240          360    600"
      ]
     },
     "execution_count": 17,
     "metadata": {},
     "output_type": "execute_result"
    }
   ],
   "source": [
    "df = pd.read_csv(\"https://raw.githubusercontent.com/PrathameshR10/Assignments/main/Folder/chi2data.csv\")\n",
    "df"
   ]
  },
  {
   "cell_type": "markdown",
   "id": "9c310f66",
   "metadata": {},
   "source": [
    "### Hypothesis"
   ]
  },
  {
   "cell_type": "code",
   "execution_count": 18,
   "id": "cc14f13f",
   "metadata": {},
   "outputs": [],
   "source": [
    "# Null Hypothesis(H0) = Their is no significant association between type of device and satisfaction level.\n",
    "# Alternate Hypothesis(Ha) = Their is relation between those two variables."
   ]
  },
  {
   "cell_type": "markdown",
   "id": "1848f837",
   "metadata": {},
   "source": [
    "### Available Data"
   ]
  },
  {
   "cell_type": "code",
   "execution_count": 19,
   "id": "4237628e",
   "metadata": {},
   "outputs": [],
   "source": [
    "obs = np.array([[50, 70],\n",
    "                 [80, 100],\n",
    "                 [60, 90],\n",
    "                 [30, 50],\n",
    "                 [20, 50]])\n",
    "alpha = 0.05"
   ]
  },
  {
   "cell_type": "code",
   "execution_count": 20,
   "id": "4a73b3a8",
   "metadata": {},
   "outputs": [
    {
     "data": {
      "text/plain": [
       "array([[ 50,  70],\n",
       "       [ 80, 100],\n",
       "       [ 60,  90],\n",
       "       [ 30,  50],\n",
       "       [ 20,  50]])"
      ]
     },
     "execution_count": 20,
     "metadata": {},
     "output_type": "execute_result"
    }
   ],
   "source": [
    "obs               # 'obs' is observed value in the table"
   ]
  },
  {
   "cell_type": "markdown",
   "id": "34157e16",
   "metadata": {},
   "source": [
    "### Calculating Chi2 statistic value"
   ]
  },
  {
   "cell_type": "code",
   "execution_count": 21,
   "id": "d5b63a9f",
   "metadata": {},
   "outputs": [],
   "source": [
    "chi, p, dof, exp = chi2_contingency(obs) "
   ]
  },
  {
   "cell_type": "code",
   "execution_count": 22,
   "id": "a1d889cc",
   "metadata": {},
   "outputs": [
    {
     "data": {
      "text/plain": [
       "array([[ 48.,  72.],\n",
       "       [ 72., 108.],\n",
       "       [ 60.,  90.],\n",
       "       [ 32.,  48.],\n",
       "       [ 28.,  42.]])"
      ]
     },
     "execution_count": 22,
     "metadata": {},
     "output_type": "execute_result"
    }
   ],
   "source": [
    "exp             # This is expected value if Null hypothesis was true i.e columns are independent"
   ]
  },
  {
   "cell_type": "code",
   "execution_count": 23,
   "id": "142c88aa",
   "metadata": {},
   "outputs": [
    {
     "data": {
      "text/plain": [
       "0.22784371130697179"
      ]
     },
     "execution_count": 23,
     "metadata": {},
     "output_type": "execute_result"
    }
   ],
   "source": [
    "p            # This is p value or critical value"
   ]
  },
  {
   "cell_type": "code",
   "execution_count": 24,
   "id": "f76ca6ce",
   "metadata": {},
   "outputs": [
    {
     "data": {
      "text/plain": [
       "4"
      ]
     },
     "execution_count": 24,
     "metadata": {},
     "output_type": "execute_result"
    }
   ],
   "source": [
    "dof           # This is degrees of freedom"
   ]
  },
  {
   "cell_type": "code",
   "execution_count": 25,
   "id": "80ed0e9b",
   "metadata": {},
   "outputs": [
    {
     "data": {
      "text/plain": [
       "5.638227513227513"
      ]
     },
     "execution_count": 25,
     "metadata": {},
     "output_type": "execute_result"
    }
   ],
   "source": [
    "chi          # This is chi statistic value"
   ]
  },
  {
   "cell_type": "code",
   "execution_count": 26,
   "id": "85981e4e",
   "metadata": {},
   "outputs": [
    {
     "name": "stdout",
     "output_type": "stream",
     "text": [
      "We fail to reject Null Hypothesis\n",
      "There's a significant association between the type of smart home device purchased and the customer satisfaction level.\n"
     ]
    }
   ],
   "source": [
    "if p < alpha:\n",
    "    print('We reject Null Hypothesis(H0), Their is no significant association between type of device and satisfaction level')\n",
    "else:\n",
    "    print('We fail to reject Null Hypothesis')\n",
    "    print(\"There's a significant association between the type of smart home device purchased \"\n",
    "          \"and the customer satisfaction level.\")"
   ]
  },
  {
   "cell_type": "code",
   "execution_count": null,
   "id": "ba2db5dc",
   "metadata": {},
   "outputs": [],
   "source": []
  }
 ],
 "metadata": {
  "kernelspec": {
   "display_name": "Python 3 (ipykernel)",
   "language": "python",
   "name": "python3"
  },
  "language_info": {
   "codemirror_mode": {
    "name": "ipython",
    "version": 3
   },
   "file_extension": ".py",
   "mimetype": "text/x-python",
   "name": "python",
   "nbconvert_exporter": "python",
   "pygments_lexer": "ipython3",
   "version": "3.11.4"
  }
 },
 "nbformat": 4,
 "nbformat_minor": 5
}
