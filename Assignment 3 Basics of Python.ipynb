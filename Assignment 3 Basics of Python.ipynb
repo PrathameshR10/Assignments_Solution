{
 "cells": [
  {
   "cell_type": "markdown",
   "id": "a208cb68",
   "metadata": {},
   "source": [
    "## 1. Prime Numbers"
   ]
  },
  {
   "cell_type": "code",
   "execution_count": 1,
   "id": "3ce15eed",
   "metadata": {},
   "outputs": [],
   "source": [
    "# Write a Python program that checks whether a given number is prime or not.\n",
    "# A prime number is a natural number greater than 1 that has no positive divisors other than 1 and itself."
   ]
  },
  {
   "cell_type": "code",
   "execution_count": 2,
   "id": "8b3f22b2",
   "metadata": {},
   "outputs": [],
   "source": [
    "import math"
   ]
  },
  {
   "cell_type": "code",
   "execution_count": 4,
   "id": "4e752441",
   "metadata": {},
   "outputs": [
    {
     "name": "stdout",
     "output_type": "stream",
     "text": [
      "Enter a number: 3\n",
      "3 is a prime number\n"
     ]
    }
   ],
   "source": [
    "def is_prime(n):\n",
    "   \n",
    "    if n <= 1:\n",
    "        return False\n",
    "    \n",
    "    \n",
    "    for i in range(2, math.isqrt(n) + 1):\n",
    "        if num % i == 0:                    \n",
    "            return False\n",
    "    \n",
    "    return True\n",
    "\n",
    "\n",
    "    # this line of code checks if number can be evenly divided by current value of 'i',\n",
    "    # so if num % i == 0, it is not a prime number thus it returns false\n",
    "    # after the loop completes without finding any divisors other than 1, it returns true\n",
    "\n",
    "\n",
    "number = int(input(\"Enter a number: \"))\n",
    "\n",
    "\n",
    "if is_prime(number):\n",
    "    print(number, \"is a prime number\")\n",
    "else:\n",
    "    print(number, \"is not a prime number\")"
   ]
  },
  {
   "cell_type": "code",
   "execution_count": null,
   "id": "ae358466",
   "metadata": {},
   "outputs": [],
   "source": []
  },
  {
   "cell_type": "markdown",
   "id": "04ae4237",
   "metadata": {},
   "source": [
    "## 2.Product of Random Numbers"
   ]
  },
  {
   "cell_type": "code",
   "execution_count": null,
   "id": "7011d057",
   "metadata": {},
   "outputs": [],
   "source": [
    "# Develop a Python program that generates two random numbers and asks the user to enter the product of these numbers. \n",
    "# The program should then check if the user's answer is correct and display an appropriate message."
   ]
  },
  {
   "cell_type": "code",
   "execution_count": 8,
   "id": "eae3d775",
   "metadata": {},
   "outputs": [
    {
     "name": "stdout",
     "output_type": "stream",
     "text": [
      "Welcome to the Random Number Product Game!\n",
      "Please enter the product of the following numbers:\n",
      "9 x 4\n",
      "Enter your answer: 36\n",
      "Congratulations! Your answer is correct.\n"
     ]
    }
   ],
   "source": [
    "import random\n",
    "\n",
    "def generate_numbers():\n",
    "    \"\"\"Generate two random numbers.\"\"\"\n",
    "    num1 = random.randint(1, 10)\n",
    "    num2 = random.randint(1, 10)\n",
    "    return num1, num2\n",
    "\n",
    "def main():\n",
    "    num1, num2 = generate_numbers()\n",
    "    product = num1 * num2\n",
    "    \n",
    "    # Above line of code calls generate_numbers function to get 2 random numbers\n",
    "    # It assigns those 2 random numbers to num1 and num2.\n",
    "    \n",
    "    print(\"Welcome to the Random Number Product Game!\")\n",
    "    print(\"Please enter the product of the following numbers:\")\n",
    "    print(num1, \"x\", num2)\n",
    "\n",
    "    user_answer = int(input(\"Enter your answer: \"))\n",
    "\n",
    "    if user_answer == product:\n",
    "        print(\"Congratulations! Your answer is correct.\")\n",
    "    else:\n",
    "        print(\"Sorry, your answer is incorrect. The correct answer is:\", product)\n",
    "\n",
    "if __name__ == \"__main__\":\n",
    "    main()"
   ]
  },
  {
   "cell_type": "code",
   "execution_count": null,
   "id": "83334034",
   "metadata": {},
   "outputs": [],
   "source": []
  },
  {
   "cell_type": "markdown",
   "id": "a3fbc8bf",
   "metadata": {},
   "source": [
    "## 3.Squares of Even/Odd Numbers"
   ]
  },
  {
   "cell_type": "code",
   "execution_count": null,
   "id": "b736ed5a",
   "metadata": {},
   "outputs": [],
   "source": [
    "# Create a Python script that prints the squares of all even or odd numbers within the range of 100 to 200. \n",
    "# Choose either even or odd numbers and document your choice in the code."
   ]
  },
  {
   "cell_type": "code",
   "execution_count": 13,
   "id": "9dade0f0",
   "metadata": {},
   "outputs": [
    {
     "name": "stdout",
     "output_type": "stream",
     "text": [
      "Squares of odd numbers in the range 100 to 201\n",
      "101 : 10201\n",
      "103 : 10609\n",
      "105 : 11025\n",
      "107 : 11449\n",
      "109 : 11881\n",
      "111 : 12321\n",
      "113 : 12769\n",
      "115 : 13225\n",
      "117 : 13689\n",
      "119 : 14161\n",
      "121 : 14641\n",
      "123 : 15129\n",
      "125 : 15625\n",
      "127 : 16129\n",
      "129 : 16641\n",
      "131 : 17161\n",
      "133 : 17689\n",
      "135 : 18225\n",
      "137 : 18769\n",
      "139 : 19321\n",
      "141 : 19881\n",
      "143 : 20449\n",
      "145 : 21025\n",
      "147 : 21609\n",
      "149 : 22201\n",
      "151 : 22801\n",
      "153 : 23409\n",
      "155 : 24025\n",
      "157 : 24649\n",
      "159 : 25281\n",
      "161 : 25921\n",
      "163 : 26569\n",
      "165 : 27225\n",
      "167 : 27889\n",
      "169 : 28561\n",
      "171 : 29241\n",
      "173 : 29929\n",
      "175 : 30625\n",
      "177 : 31329\n",
      "179 : 32041\n",
      "181 : 32761\n",
      "183 : 33489\n",
      "185 : 34225\n",
      "187 : 34969\n",
      "189 : 35721\n",
      "191 : 36481\n",
      "193 : 37249\n",
      "195 : 38025\n",
      "197 : 38809\n",
      "199 : 39601\n",
      "201 : 40401\n"
     ]
    }
   ],
   "source": [
    "def print_odd_squares(start, end):\n",
    "    \"\"\"Print the squares of all odd numbers within the given range.\"\"\"\n",
    "    print(\"Squares of odd numbers in the range\", start, \"to\", end)\n",
    "    for num in range(start, end + 1):\n",
    "        if num % 2 != 0:               # Check if the number is odd\n",
    "            print(num, \":\", num ** 2)\n",
    "\n",
    "\n",
    "\n",
    "print_odd_squares(100,201)\n"
   ]
  },
  {
   "cell_type": "code",
   "execution_count": null,
   "id": "36f7731f",
   "metadata": {},
   "outputs": [],
   "source": []
  },
  {
   "cell_type": "markdown",
   "id": "c60db206",
   "metadata": {},
   "source": [
    "## 4.Word counter"
   ]
  },
  {
   "cell_type": "code",
   "execution_count": null,
   "id": "29028ee4",
   "metadata": {},
   "outputs": [],
   "source": [
    "# write a program to count the number of words in a given text.\n",
    "# example:\n",
    "# input_text = \"This is a sample text. This text will be used to demonstrate the word counter.\""
   ]
  },
  {
   "cell_type": "code",
   "execution_count": 16,
   "id": "1483a6d6",
   "metadata": {},
   "outputs": [
    {
     "name": "stdout",
     "output_type": "stream",
     "text": [
      "Word counts:\n",
      "'This': 2\n",
      "'is': 1\n",
      "'a': 1\n",
      "'sample': 1\n",
      "'text.': 1\n",
      "'text': 1\n",
      "'will': 1\n",
      "'be': 1\n",
      "'used': 1\n",
      "'to': 1\n",
      "'demonstrate': 1\n",
      "'the': 1\n",
      "'word': 1\n",
      "'counter.': 1\n"
     ]
    }
   ],
   "source": [
    "def count_words(input_text):\n",
    "     \n",
    "    words = input_text.split()   # Split the text into words\n",
    "\n",
    "    word_counts = {}           # dictionary for storing words and counts as key-value pair\n",
    "\n",
    "   \n",
    "    for word in words:\n",
    "       \n",
    "        if word in word_counts:\n",
    "            word_counts[word] += 1\n",
    "        else:\n",
    "            word_counts[word] = 1\n",
    "\n",
    "    return word_counts\n",
    "\n",
    "# Example text\n",
    "input_text = \"This is a sample text. This text will be used to demonstrate the word counter.\"\n",
    "\n",
    "\n",
    "word_counts = count_words(input_text)\n",
    "\n",
    "\n",
    "print(\"Word counts:\")\n",
    "for word, count in word_counts.items():\n",
    "    print(f\"'{word}': {count}\")\n"
   ]
  },
  {
   "cell_type": "code",
   "execution_count": null,
   "id": "f4cbb50b",
   "metadata": {},
   "outputs": [],
   "source": []
  },
  {
   "cell_type": "markdown",
   "id": "801cf60f",
   "metadata": {},
   "source": [
    "## 5.Check for Palindrome"
   ]
  },
  {
   "cell_type": "code",
   "execution_count": null,
   "id": "c1e3a613",
   "metadata": {},
   "outputs": [],
   "source": [
    "# Write a Python function called is_palindrome that takes a string as input \n",
    "    # and returns True if the string is a palindrome, and False otherwise. \n",
    "# A palindrome is a word, phrase, number, or other sequence of characters\n",
    "    # that reads the same forward and backward, ignoring spaces, punctuation, and capitalization."
   ]
  },
  {
   "cell_type": "code",
   "execution_count": 18,
   "id": "b2631f26",
   "metadata": {},
   "outputs": [
    {
     "name": "stdout",
     "output_type": "stream",
     "text": [
      "True\n",
      "False\n"
     ]
    }
   ],
   "source": [
    "def is_palindrome(word):\n",
    "    \n",
    "    word = ''.join(filter(str.isalnum, word.lower()))\n",
    "    \n",
    "    # it removes spaces and punctuation, and convert to lowercase\n",
    "    # isalnum fileters out non alphanumeric characters\n",
    "    return word == word[::-1]    # checks if string is similar in reverse order\n",
    "\n",
    "# Test the function\n",
    "\n",
    "print(is_palindrome(\"racecar\"))  # True\n",
    "print(is_palindrome(\"hello\"))  # False\n"
   ]
  },
  {
   "cell_type": "code",
   "execution_count": null,
   "id": "3b09bc3f",
   "metadata": {},
   "outputs": [],
   "source": []
  }
 ],
 "metadata": {
  "kernelspec": {
   "display_name": "Python 3 (ipykernel)",
   "language": "python",
   "name": "python3"
  },
  "language_info": {
   "codemirror_mode": {
    "name": "ipython",
    "version": 3
   },
   "file_extension": ".py",
   "mimetype": "text/x-python",
   "name": "python",
   "nbconvert_exporter": "python",
   "pygments_lexer": "ipython3",
   "version": "3.11.4"
  }
 },
 "nbformat": 4,
 "nbformat_minor": 5
}
