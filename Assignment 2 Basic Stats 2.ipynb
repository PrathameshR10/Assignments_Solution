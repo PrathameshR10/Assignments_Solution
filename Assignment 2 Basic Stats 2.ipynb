{
 "cells": [
  {
   "cell_type": "code",
   "execution_count": 1,
   "id": "a886dcd4",
   "metadata": {},
   "outputs": [],
   "source": [
    "from scipy import stats\n",
    "import numpy as np\n",
    "import statistics"
   ]
  },
  {
   "cell_type": "code",
   "execution_count": 2,
   "id": "fcddb42d",
   "metadata": {},
   "outputs": [],
   "source": [
    "# Question:- A total of 15 print-heads were randomly selected and tested until failure. \n",
    "# The durability of each print-head (in millions of characters) was recorded as follows:\n",
    "# 1.13, 1.55, 1.43, 0.92, 1.25, 1.36, 1.32, 0.85, 1.07, 1.48, 1.20, 1.33, 1.18, 1.22, 1.29\n"
   ]
  },
  {
   "cell_type": "code",
   "execution_count": 3,
   "id": "1334b814",
   "metadata": {},
   "outputs": [],
   "source": [
    "li = [1.13, 1.55, 1.43, 0.92, 1.25, 1.36, 1.32, 0.85, 1.07, 1.48, 1.20, 1.33, 1.18, 1.22, 1.29]"
   ]
  },
  {
   "cell_type": "markdown",
   "id": "89763831",
   "metadata": {},
   "source": [
    "## Using t-test"
   ]
  },
  {
   "cell_type": "code",
   "execution_count": 4,
   "id": "2dec4bcc",
   "metadata": {},
   "outputs": [],
   "source": [
    "# As we don't have population data, we need to use \"t-test\" to calculate confidence interval\n",
    "# But, before that we also need sample Mean, and sample Std Deviation"
   ]
  },
  {
   "cell_type": "markdown",
   "id": "9542eab3",
   "metadata": {},
   "source": [
    "### Calculate Sample Mean"
   ]
  },
  {
   "cell_type": "code",
   "execution_count": 5,
   "id": "1d0ee3bd",
   "metadata": {},
   "outputs": [
    {
     "data": {
      "text/plain": [
       "1.2386666666666666"
      ]
     },
     "execution_count": 5,
     "metadata": {},
     "output_type": "execute_result"
    }
   ],
   "source": [
    "sm = sum(li) / len(li)                 # 'sm' is variable for Sample Mean\n",
    "sm"
   ]
  },
  {
   "cell_type": "markdown",
   "id": "1fb5813d",
   "metadata": {},
   "source": [
    "### Calculate Sample Std Deviation"
   ]
  },
  {
   "cell_type": "code",
   "execution_count": 6,
   "id": "c024bb97",
   "metadata": {},
   "outputs": [
    {
     "data": {
      "text/plain": [
       "0.19316412956959933"
      ]
     },
     "execution_count": 6,
     "metadata": {},
     "output_type": "execute_result"
    }
   ],
   "source": [
    "sd = statistics.stdev(li)              #'sd' is variable for Sample Std Deviation\n",
    "sd"
   ]
  },
  {
   "cell_type": "markdown",
   "id": "f8524139",
   "metadata": {},
   "source": [
    "### Calculate Confidence Interval"
   ]
  },
  {
   "cell_type": "code",
   "execution_count": 7,
   "id": "45d74fd3",
   "metadata": {},
   "outputs": [],
   "source": [
    "# Data we currently have is: \n",
    "    #Sample Mean(sm), Sample Std Deviation(sd), Degrees of Freedom(14),Confidence Level\n",
    "# Using this data we can calculate Confidence Interval"
   ]
  },
  {
   "cell_type": "code",
   "execution_count": 8,
   "id": "426821b9",
   "metadata": {},
   "outputs": [
    {
     "data": {
      "text/plain": [
       "(1.090197338451367, 1.3871359948819662)"
      ]
     },
     "execution_count": 8,
     "metadata": {},
     "output_type": "execute_result"
    }
   ],
   "source": [
    "stats.t.interval(0.99, df = 14, loc = sm, scale = sd/np.sqrt(len(li)))"
   ]
  },
  {
   "cell_type": "code",
   "execution_count": 9,
   "id": "be4501a4",
   "metadata": {},
   "outputs": [],
   "source": [
    "# So, we are 99% confident (using sample data) that the mean number of characters printed before the print-head fails is between \n",
    "#  1.090197338451367 & 1.3871359948819662 (million characters.)"
   ]
  },
  {
   "cell_type": "code",
   "execution_count": null,
   "id": "43143070",
   "metadata": {},
   "outputs": [],
   "source": []
  },
  {
   "cell_type": "markdown",
   "id": "747209f1",
   "metadata": {},
   "source": [
    "## Using z-test"
   ]
  },
  {
   "cell_type": "code",
   "execution_count": 10,
   "id": "0e2d415c",
   "metadata": {},
   "outputs": [],
   "source": [
    "# To calculate Confidence Interval using z-test, we need population Std Deviation and mean."
   ]
  },
  {
   "cell_type": "markdown",
   "id": "ea0c6b29",
   "metadata": {},
   "source": [
    "### Calculate Mean"
   ]
  },
  {
   "cell_type": "code",
   "execution_count": 11,
   "id": "445f325d",
   "metadata": {},
   "outputs": [],
   "source": [
    "# Mean will be the same for z-test i.e sm = 1.24"
   ]
  },
  {
   "cell_type": "markdown",
   "id": "54637dc6",
   "metadata": {},
   "source": [
    "## Population Std Deviation"
   ]
  },
  {
   "cell_type": "code",
   "execution_count": 12,
   "id": "046fbc5c",
   "metadata": {},
   "outputs": [],
   "source": [
    "# Population Std Deviation is given 0.2"
   ]
  },
  {
   "cell_type": "markdown",
   "id": "9eafa031",
   "metadata": {},
   "source": [
    "### Calculate Confidence Interval"
   ]
  },
  {
   "cell_type": "code",
   "execution_count": 19,
   "id": "085ad478",
   "metadata": {},
   "outputs": [
    {
     "data": {
      "text/plain": [
       "(1.110197788578895, 1.3671355447544382)"
      ]
     },
     "execution_count": 19,
     "metadata": {},
     "output_type": "execute_result"
    }
   ],
   "source": [
    "stats.norm.interval(0.99, sm, sd/np.sqrt(len(li)))"
   ]
  },
  {
   "cell_type": "code",
   "execution_count": null,
   "id": "82ceff5c",
   "metadata": {},
   "outputs": [],
   "source": [
    "# So,we are 99% confident (using population data) that the mean number of characters \n",
    "    # printed before the print-head fails is between 1.110197788578895 & 1.3671355447544382 (million characters.)"
   ]
  }
 ],
 "metadata": {
  "kernelspec": {
   "display_name": "Python 3 (ipykernel)",
   "language": "python",
   "name": "python3"
  },
  "language_info": {
   "codemirror_mode": {
    "name": "ipython",
    "version": 3
   },
   "file_extension": ".py",
   "mimetype": "text/x-python",
   "name": "python",
   "nbconvert_exporter": "python",
   "pygments_lexer": "ipython3",
   "version": "3.11.4"
  }
 },
 "nbformat": 4,
 "nbformat_minor": 5
}
